{
 "cells": [
  {
   "cell_type": "code",
   "execution_count": 722,
   "metadata": {
    "scrolled": false
   },
   "outputs": [
    {
     "name": "stdout",
     "output_type": "stream",
     "text": [
      "1.43232323232\n"
     ]
    }
   ],
   "source": [
    "import pylab as py\n",
    "import numpy as np\n",
    "import matplotlib.pyplot as plt\n",
    "from math import pi\n",
    "from scipy.spatial.distance import cdist\n",
    "from scipy.stats import multivariate_normal\n",
    "import numpy.random\n",
    "from numpy.linalg import inv\n",
    "\n",
    "#global variables\n",
    "random_xs = []\n",
    "y_values = []\n",
    "w = [-1.3, 0.5]\n",
    "\n",
    "#Define prior assumptions\n",
    "identity_matrix = np.identity(2)\n",
    "prior_w_mean = np.array([0,0])\n",
    "prior_w_cov = identity_matrix\n",
    "prior_w = multivariate_normal(prior_w_mean.flatten(), prior_w_cov)\n",
    "\n",
    "#Plot contour\n",
    "x = np.linspace(-1, 1, 100)\n",
    "x1p, x2p = np.meshgrid(x,x)\n",
    "x1p_flat = x1p.flatten()\n",
    "x2p_flat = x2p.flatten()\n",
    "pos = np.vstack((x1p_flat, x2p_flat))\n",
    "pos = pos.T\n",
    "Z = prior_w.pdf(pos)\n",
    "Z = Z.reshape(100,100)\n",
    "fig = plt.figure()\n",
    "ax = fig.add_subplot(111)\n",
    "prior_w_contour = ax.contour(x1p, x2p, Z, 3, colors='k')\n",
    "\n",
    "#Generate x and y values\n",
    "def get_random_xs(n):\n",
    "    for i in range(0, n):\n",
    "        index = np.random.randint(0, len(x)-1)\n",
    "        while x[index] in random_xs:\n",
    "            index = np.random.randint(1, len(x)-1)\n",
    "            print(\"looping\")\n",
    "        random_x = x[index]\n",
    "        random_xs.append(random_x)\n",
    "    return random_xs\n",
    "\n",
    "def generate_y_value(random_xs):\n",
    "    for x in random_xs:\n",
    "        y = x*w[0] + w[1]\n",
    "        y_values.append(y)\n",
    "    Y = np.array([y_values])\n",
    "    Y = Y.T\n",
    "    print(\"here is YYY\")\n",
    "    print(Y)\n",
    "    return Y\n",
    "\n",
    "#Turn random_xs into matrix with ones\n",
    "def generate_x_and_ones_vector(random_xs):\n",
    "    print(\"random_xs\")\n",
    "    print(random_xs)\n",
    "    arr_x = np.array([random_xs])\n",
    "    arr_x = arr_x.T\n",
    "    print(\"arr_x\")\n",
    "    print(arr_x)\n",
    "    ones = np.array([np.ones(len(random_xs))])\n",
    "    ones = ones.T\n",
    "    print(\"x_and_ones\")\n",
    "    x_and_ones = np.concatenate((arr_x, ones), axis=1)\n",
    "    print(x_and_ones)\n",
    "    #x_and_ones = np.array([x_and_ones])\n",
    "    return x_and_ones\n",
    "\n",
    "#Generate an x and turn into (1,2) matrix     \n",
    "xs = get_random_xs(10)\n",
    "X = generate_x_and_ones_vector(xs)\n",
    "Y = generate_y_value(xs)\n",
    "\n",
    "\n",
    "#Calculate posterior (formulas from GaussianIDentities.pdf end of page 4)\n",
    "posterior_cov = (1/(0.3))*np.dot(X.T, X) + inv(identity_matrix)  #0.3 or 0.3**2?\n",
    "posterior_mean = (1/(0.3))*np.dot(inv(posterior_cov), np.dot(X.T, Y))\n",
    "print(\"cov\")\n",
    "print(posterior_cov)\n",
    "print(\"mean\")\n",
    "print(posterior_mean)\n",
    "posterior_w = multivariate_normal(posterior_mean.flatten(), inv(posterior_cov))\n",
    "\n",
    "#Plot contour for posterior of w given single random datapoint\n",
    "Z_posterior = posterior_w.pdf(pos)\n",
    "Z_posterior = Z_posterior.reshape(100,100)\n",
    "posterior_w_contour = ax.contour(x1p, x2p, Z_posterior, 3, colors='k')\n",
    "\n",
    "\n",
    "#plt.scatter(random_x, y, color='g')\n",
    "#plt.plot(random_x, y, 'r')\n",
    "#y = x[:]*w[0] + w[1] + e[:,0]\n",
    "plt.axis([-1.5, 1.5, -1.5, ])\n",
    "plt.show()"
   ]
  },
  {
   "cell_type": "code",
   "execution_count": null,
   "metadata": {
    "collapsed": true
   },
   "outputs": [],
   "source": []
  },
  {
   "cell_type": "code",
   "execution_count": null,
   "metadata": {
    "collapsed": true
   },
   "outputs": [],
   "source": []
  },
  {
   "cell_type": "code",
   "execution_count": null,
   "metadata": {
    "collapsed": true
   },
   "outputs": [],
   "source": []
  },
  {
   "cell_type": "code",
   "execution_count": null,
   "metadata": {
    "collapsed": true
   },
   "outputs": [],
   "source": []
  },
  {
   "cell_type": "code",
   "execution_count": null,
   "metadata": {
    "collapsed": true
   },
   "outputs": [],
   "source": []
  }
 ],
 "metadata": {
  "kernelspec": {
   "display_name": "Python 3",
   "language": "python",
   "name": "python3"
  },
  "language_info": {
   "codemirror_mode": {
    "name": "ipython",
    "version": 3
   },
   "file_extension": ".py",
   "mimetype": "text/x-python",
   "name": "python",
   "nbconvert_exporter": "python",
   "pygments_lexer": "ipython3",
   "version": "3.6.2"
  }
 },
 "nbformat": 4,
 "nbformat_minor": 2
}
