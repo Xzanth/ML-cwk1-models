{
 "cells": [
  {
   "cell_type": "code",
   "execution_count": 39,
   "metadata": {},
   "outputs": [
    {
     "name": "stdout",
     "output_type": "stream",
     "text": [
      "Optimization terminated successfully.\n",
      "         Current function value: 1985.456370\n",
      "         Iterations: 78\n",
      "         Function evaluations: 155\n",
      "         Gradient evaluations: 155\n"
     ]
    },
    {
     "data": {
      "image/png": "[encoded data removed]",
      "text/plain": [
       "<matplotlib.figure.Figure at 0x7f23e440ce50>"
      ]
     },
     "metadata": {},
     "output_type": "display_data"
    },
    {
     "data": {
      "image/png": "[encoded data removed]",
      "text/plain": [
       "<matplotlib.figure.Figure at 0x7f23ab478550>"
      ]
     },
     "metadata": {},
     "output_type": "display_data"
    }
   ],
   "source": [
    "import numpy as np\n",
    "import scipy.optimize as opt\n",
    "import matplotlib.pyplot as plt\n",
    "\n",
    "def f(W):\n",
    "    W = np.reshape(W, (10,2))\n",
    "    WWT = np.dot(W,np.transpose(W))\n",
    "    I = np.eye(10)\n",
    "    A = np.trace(np.dot(np.dot(Y, np.linalg.inv(WWT + I)),np.transpose(Y)))\n",
    "    B = np.log(np.linalg.det(WWT + I))\n",
    "    C = 10*np.log(2*np.pi)\n",
    "    return 0.5*100*(A + B + C)\n",
    "\n",
    "def dfx(W):\n",
    "    W = np.reshape(W, (10,2))\n",
    "    WWT = np.dot(W,np.transpose(W))\n",
    "    I = np.eye(10)\n",
    "    prec = np.linalg.inv(WWT + I)\n",
    "    \n",
    "    gd = np.empty(W.shape)\n",
    "    for i in range(gd.shape[0]):\n",
    "        for j in range(gd.shape[1]):\n",
    "            J = np.zeros(np.shape(W))\n",
    "            J[i,j] = 1\n",
    "            JWWJ = np.dot(J,np.transpose(W)) + np.dot(W,np.transpose(J))\n",
    "            dprec = np.dot(np.dot(-prec, JWWJ), prec)\n",
    "            A = np.trace(np.dot(np.dot(Y,dprec), np.transpose(Y)))\n",
    "            B = np.trace(np.dot(prec, JWWJ))\n",
    "            gd[i,j] = 100*0.5*(A + B)\n",
    "    gd = np.reshape(gd,(20,))\n",
    "    return gd\n",
    "\n",
    "def fnonlin(x):\n",
    "    Y = np.zeros((100,2))\n",
    "    Y[:,0]= np.multiply(x,np.cos(x))\n",
    "    Y[:,1]= np.multiply(x,np.sin(x))\n",
    "    return Y\n",
    "\n",
    "def flin(x, A):\n",
    "    return np.dot(x, np.transpose(A))\n",
    "\n",
    "A = np.random.randn(20)\n",
    "A = A.reshape((10,2))\n",
    "\n",
    "x = np.linspace(0,4*np.pi,100)\n",
    "xprime = fnonlin(x)\n",
    "\n",
    "Y = flin(xprime, A)\n",
    "\n",
    "A = np.random.randn(20)\n",
    "A = np.reshape(A, (20,))\n",
    "\n",
    "prior = np.zeros(20)\n",
    "Wprime = opt.fmin_cg(f,A, fprime=dfx)\n",
    "Wprime = np.reshape(Wstar,(10,2))\n",
    "WTW = np.dot(np.transpose(W),W)\n",
    "learned = np.dot(Y, np.dot(W, np.linalg.inv(WTW))) \n",
    "\n",
    "plt.figure(1)\n",
    "plt.scatter(learned[:,0],learned[:,1])\n",
    "plt.figure(2)\n",
    "plt.scatter(xprime[:,0],xprime[:,1])\n",
    "plt.show()"
   ]
  },
  {
   "cell_type": "code",
   "execution_count": null,
   "metadata": {},
   "outputs": [],
   "source": []
  }
 ],
 "metadata": {
  "kernelspec": {
   "display_name": "Python 2",
   "language": "python",
   "name": "python2"
  },
  "language_info": {
   "codemirror_mode": {
    "name": "ipython",
    "version": 2
   },
   "file_extension": ".py",
   "mimetype": "text/x-python",
   "name": "python",
   "nbconvert_exporter": "python",
   "pygments_lexer": "ipython2",
   "version": "2.7.9"
  }
 },
 "nbformat": 4,
 "nbformat_minor": 2
}
