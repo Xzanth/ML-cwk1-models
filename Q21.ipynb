{
 "cells": [
  {
   "cell_type": "code",
   "execution_count": 11,
   "metadata": {},
   "outputs": [
    {
     "name": "stdout",
     "output_type": "stream",
     "text": [
      "[[ 0.28370521  0.0319854 ]\n",
      " [ 0.41622385 -0.23741467]\n",
      " [-0.39569689 -0.74902202]\n",
      " [ 0.75235654  0.0308987 ]\n",
      " [ 0.24529106  0.69303119]\n",
      " [-0.04278186  1.66455455]\n",
      " [ 0.28681667  0.01332483]\n",
      " [-1.93371488  0.20359829]\n",
      " [-0.81998575 -0.90321907]\n",
      " [-0.20979046 -0.14740707]]\n",
      "(100, 10)\n",
      "[ 0.45462441  0.65812514  0.60608869 -1.74589203  0.62777097 -0.35236556\n",
      " -1.59977702  0.26358474  1.05108729  0.67154058  2.2039193  -0.98173223\n",
      "  2.52214899  0.07791121  1.39602102 -0.34681501  0.29545804  1.22337651\n",
      "  0.12255612  0.54837071]\n",
      "Warning: Desired error not necessarily achieved due to precision loss.\n",
      "         Current function value: -10722.390253\n",
      "         Iterations: 29\n",
      "         Function evaluations: 165\n",
      "         Gradient evaluations: 153\n"
     ]
    },
    {
     "data": {
      "image/png": "[encoded data removed]",
      "text/plain": [
       "<matplotlib.figure.Figure at 0x7f23ab6ec790>"
      ]
     },
     "metadata": {},
     "output_type": "display_data"
    },
    {
     "data": {
      "image/png": "[encoded data removed]",
      "text/plain": [
       "<matplotlib.figure.Figure at 0x7f23ab6ce790>"
      ]
     },
     "metadata": {},
     "output_type": "display_data"
    }
   ],
   "source": [
    "import numpy as np\n",
    "import scipy as sp\n",
    "import scipy.optimize as opt\n",
    "\n",
    "import matplotlib.pyplot as plt\n",
    "\n",
    "\n",
    "def f(W):\n",
    "    W = np.reshape(W,(10,2))\n",
    "    H = np.dot(W,np.transpose(W))\n",
    "    I = 2*np.eye(10)\n",
    "    inv = np.linalg.inv(H+I)\n",
    "    A = 50*np.log(np.linalg.det(H+I))\n",
    "    B = 0.5*np.trace(np.dot(inv, np.dot(np.transpose(Y),Y)))\n",
    "    val = A+B+0.5*10*100*np.log(2*np.pi)\n",
    "    return -val\n",
    "\n",
    "def dfx(W):\n",
    "    W = np.reshape(W,(10,2))\n",
    "    H = np.dot(W,np.transpose(W))\n",
    "    I = sigma*np.eye(10)\n",
    "    inv = np.linalg.inv((H+I))\n",
    "\n",
    "    val = np.empty(W.shape)\n",
    "    for i in range(val.shape[0]):\n",
    "        for j in range(val.shape[1]):\n",
    "            J = np.zeros(np.shape(W))\n",
    "            J[i,j] = 1\n",
    "            dWW = np.dot(J,np.transpose(W)) + np.dot(W,np.transpose(J))\n",
    "            A = 100*np.trace(np.dot(inv,dWW))\n",
    "            B1 = np.dot(np.dot(-inv, dWW),inv)\n",
    "            B = 100*np.trace(np.dot(B1, np.dot(np.transpose(Y),Y)))\n",
    "            val[i,j]= -0.5*A+-0.5*B\n",
    "    val = np.reshape(val,(20,))\n",
    "    return val\n",
    "\n",
    "def fnonlin(x):\n",
    "    Y = np.zeros((100,2))\n",
    "    Y[:,0]= np.multiply(x,np.cos(x))\n",
    "    Y[:,1]= np.multiply(x,np.sin(x))\n",
    "    return Y\n",
    "\n",
    "def flin(x, A):\n",
    "    return np.dot(x, np.transpose(A))\n",
    "\n",
    "A = np.random.randn(20)\n",
    "A = A.reshape((10,2))\n",
    "print(A)\n",
    "x = np.linspace(0,4*np.pi,100)\n",
    "\n",
    "Y = flin(fnonlin(x), A)\n",
    "print(Y.shape)\n",
    "\n",
    "noise = np.random.multivariate_normal(np.zeros(10), 0.1*np.eye(10), 100)\n",
    "\n",
    "sigma = 2\n",
    "\n",
    "A = np.random.randn(20)\n",
    "A = np.reshape(A, (20,))\n",
    "print(A)\n",
    "W0 = np.ones(20)\n",
    "Wstar = opt.fmin_cg(f,A, fprime=dfx)\n",
    "W = np.reshape(Wstar,(10,2))\n",
    "WtW = np.dot(np.transpose(W),W)\n",
    "inv = np.linalg.pinv(WtW)\n",
    "newX = np.dot(Y, np.dot(W,WtW))\n",
    "plt.figure(1)\n",
    "plt.scatter(newX[:,0],newX[:,1])\n",
    "plt.figure(2)\n",
    "plt.scatter(Y[:,0],Y[:,1])\n",
    "plt.show()"
   ]
  },
  {
   "cell_type": "code",
   "execution_count": 13,
   "metadata": {},
   "outputs": [
    {
     "name": "stdout",
     "output_type": "stream",
     "text": [
      "Warning: Desired error not necessarily achieved due to precision loss.\n",
      "         Current function value: 2067.881251\n",
      "         Iterations: 13\n",
      "         Function evaluations: 46\n",
      "         Gradient evaluations: 34\n"
     ]
    },
    {
     "data": {
      "image/png": "[encoded data removed]",
      "text/plain": [
       "<matplotlib.figure.Figure at 0x7f23ab99ed50>"
      ]
     },
     "metadata": {},
     "output_type": "display_data"
    }
   ],
   "source": [
    "import numpy as np\n",
    "import scipy as sp\n",
    "import scipy.optimize as opt\n",
    "import matplotlib.pyplot as plt\n",
    "\n",
    "def generateA():\n",
    "     A = np.random.randn(20)\n",
    "     A = A.reshape((10,2))\n",
    "     return A\n",
    "\n",
    "def generateX():\n",
    "    x = np.linspace(0,4*np.pi,100)\n",
    "    X = np.zeros((100,2))\n",
    "    X[:,0]= np.multiply(x,np.cos(x))\n",
    "    X[:,1]= np.multiply(x,np.sin(x))\n",
    "    return(X)\n",
    "\n",
    "def generateY():\n",
    "    A = generateA()\n",
    "    X = generateX()\n",
    "    Y = np.dot(X, np.transpose(A))\n",
    "    noise = np.random.multivariate_normal(np.zeros(10), 0.1*np.eye(10), 100)\n",
    "    return Y+noise\n",
    "\n",
    "sigma = 2\n",
    "Y = generateY()\n",
    "\n",
    "def f(W):\n",
    "    W = np.reshape(W,(10,2))\n",
    "    H = np.dot(W,np.transpose(W))\n",
    "    I = sigma*np.eye(10)\n",
    "    inv = np.linalg.inv(H+I)\n",
    "    A = 50*np.log(np.linalg.det(H+I))\n",
    "    B = 0.5*np.trace(np.dot(inv, np.dot(np.transpose(Y),Y)))\n",
    "    return A+B+0.5*10*100*np.log(2*np.pi)\n",
    "\n",
    "def df(W):\n",
    "    W = np.reshape(W,(10,2))\n",
    "    H = np.dot(W,np.transpose(W))\n",
    "    I = sigma*np.eye(10)\n",
    "    inv = np.linalg.inv((H+I))\n",
    "\n",
    "    val = np.empty(W.shape)\n",
    "    for i in range(val.shape[0]):\n",
    "        for j in range(val.shape[1]):\n",
    "            J = np.zeros(np.shape(W))\n",
    "            J[i,j] = 1\n",
    "            dWW = np.dot(J,np.transpose(W)) + np.dot(W,np.transpose(J))\n",
    "            A = 100*np.trace(np.dot(inv,dWW))\n",
    "            B1 = np.dot(np.dot(-inv, dWW),inv)\n",
    "            B = np.trace(np.dot(B1, np.dot(np.transpose(Y),Y)))\n",
    "            val[i,j]= 0.5*A+0.5*B\n",
    "    val = np.reshape(val,(20,))\n",
    "    return val\n",
    "\n",
    "A = 20*np.random.randn(20)\n",
    "A = np.reshape(A, (20,))\n",
    "W0 = np.ones(20)\n",
    "Wstar = opt.fmin_cg(f,A, fprime=df)\n",
    "W = np.reshape(Wstar,(10,2))\n",
    "WtW = np.dot(np.transpose(W),W)\n",
    "inv = np.linalg.pinv(WtW)\n",
    "X = np.dot(Y, np.dot(W,WtW))\n",
    "plt.scatter(X[:,0],X[:,1])\n",
    "plt.show()"
   ]
  }
 ],
 "metadata": {
  "kernelspec": {
   "display_name": "Python 2",
   "language": "python",
   "name": "python2"
  },
  "language_info": {
   "codemirror_mode": {
    "name": "ipython",
    "version": 2
   },
   "file_extension": ".py",
   "mimetype": "text/x-python",
   "name": "python",
   "nbconvert_exporter": "python",
   "pygments_lexer": "ipython2",
   "version": "2.7.9"
  }
 },
 "nbformat": 4,
 "nbformat_minor": 2
}
